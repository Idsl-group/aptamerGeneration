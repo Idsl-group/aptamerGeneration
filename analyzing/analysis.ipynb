{
 "cells": [
  {
   "cell_type": "code",
   "execution_count": 32,
   "id": "a3493279",
   "metadata": {},
   "outputs": [],
   "source": [
    "import subprocess\n",
    "import pandas as pd\n",
    "from Bio import SeqIO\n",
    "from Bio.Seq import Seq\n",
    "from Bio.SeqRecord import SeqRecord\n",
    "import matplotlib.pyplot as plt\n",
    "import os\n",
    "import pickle\n",
    "import numpy as np"
   ]
  },
  {
   "cell_type": "code",
   "execution_count": 40,
   "id": "c5c27a04",
   "metadata": {},
   "outputs": [],
   "source": [
    "def faToTwoBit(fasta_file: str):\n",
    "    twobit_file = fasta_file.split(\".\")[0] + \".2bit\"\n",
    "\n",
    "    cmd = [\n",
    "        \"faToTwoBit\",\n",
    "        f\"{fasta_file}\",\n",
    "        f\"{twobit_file}\"\n",
    "    ]\n",
    "\n",
    "    subprocess.run(cmd, check=True)\n",
    "    print(f\"Successfully created {twobit_file}\")\n"
   ]
  },
  {
   "cell_type": "code",
   "execution_count": 2,
   "id": "a49cfaa8",
   "metadata": {},
   "outputs": [],
   "source": [
    "def run_blat(reference_2bit, query_fasta, output_psl, tile_size=10, step_size=5):\n",
    "    cmd = [\n",
    "        \"blat\",\n",
    "        f\"-tileSize={tile_size}\",\n",
    "        f\"-stepSize={step_size}\",\n",
    "        reference_2bit,\n",
    "        query_fasta,\n",
    "        output_psl\n",
    "    ]\n",
    "    print(f\"Running BLAT: {' '.join(cmd)}\")\n",
    "    subprocess.run(cmd, check=True)"
   ]
  },
  {
   "cell_type": "code",
   "execution_count": 3,
   "id": "35dec4af",
   "metadata": {},
   "outputs": [],
   "source": [
    "def parse_psl(psl_path):\n",
    "    with open(psl_path) as f:\n",
    "        lines = f.readlines()\n",
    "\n",
    "    # Skip header lines\n",
    "    data_lines = [line for line in lines if line.strip() and line[0].isdigit()]\n",
    "\n",
    "    columns = [\n",
    "        \"matches\", \"misMatches\", \"repMatches\", \"nCount\", \"qNumInsert\", \"qBaseInsert\",\n",
    "        \"tNumInsert\", \"tBaseInsert\", \"strand\", \"qName\", \"qSize\", \"qStart\", \"qEnd\",\n",
    "        \"tName\", \"tSize\", \"tStart\", \"tEnd\", \"blockCount\", \"blockSizes\",\n",
    "        \"qStarts\", \"tStarts\"\n",
    "    ]\n",
    "\n",
    "    df = pd.DataFrame([line.strip().split('\\t') for line in data_lines], columns=columns)\n",
    "    df[[\"matches\", \"misMatches\", \"qSize\", \"qStart\", \"qEnd\"]] = df[[\"matches\", \"misMatches\", \"qSize\", \"qStart\", \"qEnd\"]].astype(int)\n",
    "\n",
    "    df[\"aligned_length\"] = df[\"qEnd\"] - df[\"qStart\"]\n",
    "    df[\"percent_identity\"] = df[\"matches\"] / (df[\"matches\"] + df[\"misMatches\"] + 1e-6)\n",
    "    df[\"coverage\"] = df[\"aligned_length\"] / (df[\"qSize\"] + 1e-6)\n",
    "\n",
    "    return df"
   ]
  },
  {
   "cell_type": "code",
   "execution_count": 4,
   "id": "cf29f578",
   "metadata": {},
   "outputs": [],
   "source": [
    "def summarize_blat_results(df):\n",
    "    top_hits = df.sort_values(\"percent_identity\", ascending=False).drop_duplicates(\"qName\")\n",
    "\n",
    "    print(\"Top-hit identity statistics:\")\n",
    "    print(top_hits[\"percent_identity\"].describe())\n",
    "\n",
    "    num_exact_matches = ((top_hits[\"percent_identity\"] == 1.0) & (top_hits[\"coverage\"] == 1.0)).sum()\n",
    "    print(f\"\\nPerfect duplicates (identity=1.0 and full coverage): {num_exact_matches} / {len(top_hits)}\")\n",
    "\n",
    "    return top_hits"
   ]
  },
  {
   "cell_type": "code",
   "execution_count": 6,
   "id": "354f5895",
   "metadata": {},
   "outputs": [],
   "source": [
    "def plot_alignment_stats(df, output_dir=\"plots\"):\n",
    "    os.makedirs(output_dir, exist_ok=True)\n",
    "\n",
    "    top_hits = df.sort_values(\"percent_identity\", ascending=False).drop_duplicates(\"qName\")\n",
    "\n",
    "    plt.figure(figsize=(8, 5))\n",
    "    plt.hist(top_hits[\"percent_identity\"], bins=50, color=\"steelblue\", edgecolor=\"black\")\n",
    "    plt.xlabel(\"Percent Identity\")\n",
    "    plt.ylabel(\"Frequency\")\n",
    "    plt.title(\"Top Hit: Percent Identity\")\n",
    "    plt.grid(True)\n",
    "    plt.tight_layout()\n",
    "    plt.savefig(os.path.join(output_dir, \"percent_identity_hist.png\"))\n",
    "    plt.close()\n",
    "\n",
    "    plt.figure(figsize=(8, 5))\n",
    "    plt.hist(top_hits[\"coverage\"], bins=50, color=\"orange\", edgecolor=\"black\")\n",
    "    plt.xlabel(\"Query Coverage\")\n",
    "    plt.ylabel(\"Frequency\")\n",
    "    plt.title(\"Top Hit: Coverage\")\n",
    "    plt.grid(True)\n",
    "    plt.tight_layout()\n",
    "    plt.savefig(os.path.join(output_dir, \"coverage_hist.png\"))\n",
    "    plt.close()\n",
    "\n",
    "    plt.figure(figsize=(6, 6))\n",
    "    plt.scatter(top_hits[\"coverage\"], top_hits[\"percent_identity\"], alpha=0.5)\n",
    "    plt.xlabel(\"Coverage\")\n",
    "    plt.ylabel(\"Percent Identity\")\n",
    "    plt.title(\"Identity vs. Coverage (Top Hits)\")\n",
    "    plt.grid(True)\n",
    "    plt.tight_layout()\n",
    "    plt.savefig(os.path.join(output_dir, \"identity_vs_coverage.png\"))\n",
    "    plt.close()"
   ]
  },
  {
   "cell_type": "code",
   "execution_count": 7,
   "id": "3ce3447b",
   "metadata": {},
   "outputs": [],
   "source": [
    "def csv_to_fasta(csv_path, fasta_path):\n",
    "    df = pd.read_csv(csv_path)\n",
    "    sequences = df[\"val_seq\"]\n",
    "\n",
    "    records = []\n",
    "    for i, seq in enumerate(sequences):\n",
    "        seq_clean = str(seq).strip().upper()\n",
    "        if not set(seq_clean).issubset(set(\"ACGT\")):\n",
    "            continue\n",
    "        record = SeqRecord(Seq(seq_clean), id=f\"valseq_{i}\", description=\"\")\n",
    "        records.append(record)\n",
    "\n",
    "    SeqIO.write(records, fasta_path, \"fasta\")\n",
    "    print(f\"Wrote {len(records)} sequences to {fasta_path}\")"
   ]
  },
  {
   "cell_type": "markdown",
   "id": "d64ff3bb",
   "metadata": {},
   "source": [
    "## Test Generated against Generated to See if BLAT works"
   ]
  },
  {
   "cell_type": "code",
   "execution_count": null,
   "id": "604629f6",
   "metadata": {},
   "outputs": [
    {
     "name": "stdout",
     "output_type": "stream",
     "text": [
      "Wrote 12254 sequences to generated_sequences.fasta\n"
     ]
    }
   ],
   "source": [
    "csv_to_fasta(\"../workdir/aptatrans_training_attempt2_2025-08-04_13-15-22/val_0.csv\", \"generated_aptamer_sequences.fasta\")"
   ]
  },
  {
   "cell_type": "code",
   "execution_count": 24,
   "id": "5b411446",
   "metadata": {},
   "outputs": [],
   "source": [
    "ref_2bit = \"generated_aptamer_sequences.2bit\"\n",
    "query_fasta = \"generated_aptamer_sequences.fasta\"\n",
    "out_psl = \"blat_output.psl\""
   ]
  },
  {
   "cell_type": "code",
   "execution_count": 25,
   "id": "d5efcf64",
   "metadata": {},
   "outputs": [
    {
     "name": "stdout",
     "output_type": "stream",
     "text": [
      "Running BLAT: blat -tileSize=10 -stepSize=5 generated_aptamer_sequences.2bit generated_aptamer_sequences.fasta blat_output.psl\n",
      "Loaded 1568512 letters in 12254 sequences\n",
      "Searched 1568512 bases in 12254 sequences\n"
     ]
    }
   ],
   "source": [
    "run_blat(ref_2bit, query_fasta, out_psl)"
   ]
  },
  {
   "cell_type": "code",
   "execution_count": 26,
   "id": "50c20bd0",
   "metadata": {},
   "outputs": [],
   "source": [
    "df = parse_psl(out_psl)"
   ]
  },
  {
   "cell_type": "code",
   "execution_count": 27,
   "id": "ec26f486",
   "metadata": {},
   "outputs": [
    {
     "name": "stdout",
     "output_type": "stream",
     "text": [
      "Top-hit identity statistics:\n",
      "count    1.225400e+04\n",
      "mean     1.000000e+00\n",
      "std      3.330805e-16\n",
      "min      1.000000e+00\n",
      "25%      1.000000e+00\n",
      "50%      1.000000e+00\n",
      "75%      1.000000e+00\n",
      "max      1.000000e+00\n",
      "Name: percent_identity, dtype: float64\n",
      "\n",
      "Perfect duplicates (identity=1.0 and full coverage): 0 / 12254\n"
     ]
    }
   ],
   "source": [
    "top_hits = summarize_blat_results(df)\n"
   ]
  },
  {
   "cell_type": "code",
   "execution_count": 28,
   "id": "e08871a7",
   "metadata": {},
   "outputs": [],
   "source": [
    "plot_alignment_stats(top_hits)"
   ]
  },
  {
   "cell_type": "markdown",
   "id": "4c4fa8a2",
   "metadata": {},
   "source": [
    "# Compare DeepFlyBrain to Aptamers"
   ]
  },
  {
   "cell_type": "code",
   "execution_count": 33,
   "id": "871db10c",
   "metadata": {},
   "outputs": [],
   "source": [
    "index_to_base = np.array(['A', 'C', 'G', 'T'])\n",
    "\n",
    "def onehot_to_dna(onehot_array):\n",
    "    # Get the index of the \"1\" in the last dimension\n",
    "    indices = np.argmax(onehot_array, axis=-1)  # Shape: (104665, 500)\n",
    "    # Map to letters\n",
    "    sequences = [\"\".join(index_to_base[row]) for row in indices]\n",
    "    return sequences"
   ]
  },
  {
   "cell_type": "code",
   "execution_count": 38,
   "id": "cf465812",
   "metadata": {},
   "outputs": [],
   "source": [
    "def save_to_fasta(sequences, output_path, header_prefix=\"seq\"):\n",
    "    with open(output_path, \"w\") as fasta_file:\n",
    "        for i, seq in enumerate(sequences):\n",
    "            fasta_file.write(f\">{header_prefix}_{i}\\n\")\n",
    "            fasta_file.write(seq + \"\\n\")"
   ]
  },
  {
   "cell_type": "code",
   "execution_count": 16,
   "id": "ce815ff3",
   "metadata": {},
   "outputs": [],
   "source": [
    "flybrain_pik = pickle.load(open(\"../data/the_code/General/data/DeepFlyBrain_data.pkl\", 'rb'))"
   ]
  },
  {
   "cell_type": "code",
   "execution_count": 19,
   "id": "702dd3eb",
   "metadata": {},
   "outputs": [],
   "source": [
    "flybrain_data = flybrain_pik['nonAugmented_data']"
   ]
  },
  {
   "cell_type": "code",
   "execution_count": 34,
   "id": "cd9c1222",
   "metadata": {},
   "outputs": [],
   "source": [
    "flybrain_data = onehot_to_dna(flybrain_data)"
   ]
  },
  {
   "cell_type": "code",
   "execution_count": 39,
   "id": "2fef9e63",
   "metadata": {},
   "outputs": [],
   "source": [
    "save_to_fasta(flybrain_data, \"flybrain_natural_sequences.fasta\")"
   ]
  },
  {
   "cell_type": "code",
   "execution_count": 41,
   "id": "681f2a74",
   "metadata": {},
   "outputs": [],
   "source": [
    "ref_2bit = \"flybrain_natural_sequences.2bit\"\n",
    "query_fasta = \"generated_aptamer_sequences.fasta\"\n",
    "out_psl = \"blat_flybrain_natural_vs_generated_aptamers_output.psl\""
   ]
  },
  {
   "cell_type": "code",
   "execution_count": 42,
   "id": "ec2f20cf",
   "metadata": {},
   "outputs": [
    {
     "name": "stdout",
     "output_type": "stream",
     "text": [
      "Running BLAT: blat -tileSize=10 -stepSize=5 flybrain_natural_sequences.2bit generated_aptamer_sequences.fasta blat_flybrain_natural_vs_generated_aptamers_output.psl\n",
      "Loaded 52332500 letters in 104665 sequences\n",
      "Searched 1568512 bases in 12254 sequences\n"
     ]
    }
   ],
   "source": [
    "run_blat(ref_2bit, query_fasta, out_psl)"
   ]
  },
  {
   "cell_type": "code",
   "execution_count": 43,
   "id": "d66a1323",
   "metadata": {},
   "outputs": [],
   "source": [
    "df = parse_psl(out_psl)"
   ]
  },
  {
   "cell_type": "code",
   "execution_count": 44,
   "id": "e1b33df6",
   "metadata": {},
   "outputs": [
    {
     "name": "stdout",
     "output_type": "stream",
     "text": [
      "Top-hit identity statistics:\n",
      "count    112.000000\n",
      "mean       0.978894\n",
      "std        0.025257\n",
      "min        0.916667\n",
      "25%        0.968367\n",
      "50%        0.990385\n",
      "75%        1.000000\n",
      "max        1.000000\n",
      "Name: percent_identity, dtype: float64\n",
      "\n",
      "Perfect duplicates (identity=1.0 and full coverage): 0 / 112\n"
     ]
    }
   ],
   "source": [
    "top_hits = summarize_blat_results(df)\n"
   ]
  },
  {
   "cell_type": "code",
   "execution_count": 45,
   "id": "b6972cfe",
   "metadata": {},
   "outputs": [],
   "source": [
    "plot_alignment_stats(top_hits)"
   ]
  }
 ],
 "metadata": {
  "kernelspec": {
   "display_name": "seq",
   "language": "python",
   "name": "python3"
  },
  "language_info": {
   "codemirror_mode": {
    "name": "ipython",
    "version": 3
   },
   "file_extension": ".py",
   "mimetype": "text/x-python",
   "name": "python",
   "nbconvert_exporter": "python",
   "pygments_lexer": "ipython3",
   "version": "3.9.7"
  }
 },
 "nbformat": 4,
 "nbformat_minor": 5
}
