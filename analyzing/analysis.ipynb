{
 "cells": [
  {
   "cell_type": "code",
   "execution_count": 14,
   "id": "a3493279",
   "metadata": {},
   "outputs": [],
   "source": [
    "import subprocess\n",
    "import pandas as pd\n",
    "from Bio import SeqIO\n",
    "from Bio.Seq import Seq\n",
    "from Bio.SeqRecord import SeqRecord\n",
    "import matplotlib.pyplot as plt\n",
    "import os\n",
    "import pickle"
   ]
  },
  {
   "cell_type": "code",
   "execution_count": 2,
   "id": "a49cfaa8",
   "metadata": {},
   "outputs": [],
   "source": [
    "def run_blat(reference_2bit, query_fasta, output_psl, tile_size=10, step_size=5):\n",
    "    cmd = [\n",
    "        \"blat\",\n",
    "        f\"-tileSize={tile_size}\",\n",
    "        f\"-stepSize={step_size}\",\n",
    "        reference_2bit,\n",
    "        query_fasta,\n",
    "        output_psl\n",
    "    ]\n",
    "    print(f\"Running BLAT: {' '.join(cmd)}\")\n",
    "    subprocess.run(cmd, check=True)"
   ]
  },
  {
   "cell_type": "code",
   "execution_count": 3,
   "id": "35dec4af",
   "metadata": {},
   "outputs": [],
   "source": [
    "def parse_psl(psl_path):\n",
    "    with open(psl_path) as f:\n",
    "        lines = f.readlines()\n",
    "\n",
    "    # Skip header lines\n",
    "    data_lines = [line for line in lines if line.strip() and line[0].isdigit()]\n",
    "\n",
    "    columns = [\n",
    "        \"matches\", \"misMatches\", \"repMatches\", \"nCount\", \"qNumInsert\", \"qBaseInsert\",\n",
    "        \"tNumInsert\", \"tBaseInsert\", \"strand\", \"qName\", \"qSize\", \"qStart\", \"qEnd\",\n",
    "        \"tName\", \"tSize\", \"tStart\", \"tEnd\", \"blockCount\", \"blockSizes\",\n",
    "        \"qStarts\", \"tStarts\"\n",
    "    ]\n",
    "\n",
    "    df = pd.DataFrame([line.strip().split('\\t') for line in data_lines], columns=columns)\n",
    "    df[[\"matches\", \"misMatches\", \"qSize\", \"qStart\", \"qEnd\"]] = df[[\"matches\", \"misMatches\", \"qSize\", \"qStart\", \"qEnd\"]].astype(int)\n",
    "\n",
    "    df[\"aligned_length\"] = df[\"qEnd\"] - df[\"qStart\"]\n",
    "    df[\"percent_identity\"] = df[\"matches\"] / (df[\"matches\"] + df[\"misMatches\"] + 1e-6)\n",
    "    df[\"coverage\"] = df[\"aligned_length\"] / (df[\"qSize\"] + 1e-6)\n",
    "\n",
    "    return df"
   ]
  },
  {
   "cell_type": "code",
   "execution_count": 4,
   "id": "cf29f578",
   "metadata": {},
   "outputs": [],
   "source": [
    "def summarize_blat_results(df):\n",
    "    top_hits = df.sort_values(\"percent_identity\", ascending=False).drop_duplicates(\"qName\")\n",
    "\n",
    "    print(\"Top-hit identity statistics:\")\n",
    "    print(top_hits[\"percent_identity\"].describe())\n",
    "\n",
    "    num_exact_matches = ((top_hits[\"percent_identity\"] == 1.0) & (top_hits[\"coverage\"] == 1.0)).sum()\n",
    "    print(f\"\\nPerfect duplicates (identity=1.0 and full coverage): {num_exact_matches} / {len(top_hits)}\")\n",
    "\n",
    "    return top_hits"
   ]
  },
  {
   "cell_type": "code",
   "execution_count": 6,
   "id": "354f5895",
   "metadata": {},
   "outputs": [],
   "source": [
    "def plot_alignment_stats(df, output_dir=\"plots\"):\n",
    "    os.makedirs(output_dir, exist_ok=True)\n",
    "\n",
    "    top_hits = df.sort_values(\"percent_identity\", ascending=False).drop_duplicates(\"qName\")\n",
    "\n",
    "    plt.figure(figsize=(8, 5))\n",
    "    plt.hist(top_hits[\"percent_identity\"], bins=50, color=\"steelblue\", edgecolor=\"black\")\n",
    "    plt.xlabel(\"Percent Identity\")\n",
    "    plt.ylabel(\"Frequency\")\n",
    "    plt.title(\"Top Hit: Percent Identity\")\n",
    "    plt.grid(True)\n",
    "    plt.tight_layout()\n",
    "    plt.savefig(os.path.join(output_dir, \"percent_identity_hist.png\"))\n",
    "    plt.close()\n",
    "\n",
    "    plt.figure(figsize=(8, 5))\n",
    "    plt.hist(top_hits[\"coverage\"], bins=50, color=\"orange\", edgecolor=\"black\")\n",
    "    plt.xlabel(\"Query Coverage\")\n",
    "    plt.ylabel(\"Frequency\")\n",
    "    plt.title(\"Top Hit: Coverage\")\n",
    "    plt.grid(True)\n",
    "    plt.tight_layout()\n",
    "    plt.savefig(os.path.join(output_dir, \"coverage_hist.png\"))\n",
    "    plt.close()\n",
    "\n",
    "    plt.figure(figsize=(6, 6))\n",
    "    plt.scatter(top_hits[\"coverage\"], top_hits[\"percent_identity\"], alpha=0.5)\n",
    "    plt.xlabel(\"Coverage\")\n",
    "    plt.ylabel(\"Percent Identity\")\n",
    "    plt.title(\"Identity vs. Coverage (Top Hits)\")\n",
    "    plt.grid(True)\n",
    "    plt.tight_layout()\n",
    "    plt.savefig(os.path.join(output_dir, \"identity_vs_coverage.png\"))\n",
    "    plt.close()"
   ]
  },
  {
   "cell_type": "code",
   "execution_count": 7,
   "id": "3ce3447b",
   "metadata": {},
   "outputs": [],
   "source": [
    "def csv_to_fasta(csv_path, fasta_path):\n",
    "    df = pd.read_csv(csv_path)\n",
    "    sequences = df[\"val_seq\"]\n",
    "\n",
    "    records = []\n",
    "    for i, seq in enumerate(sequences):\n",
    "        seq_clean = str(seq).strip().upper()\n",
    "        if not set(seq_clean).issubset(set(\"ACGT\")):\n",
    "            continue\n",
    "        record = SeqRecord(Seq(seq_clean), id=f\"valseq_{i}\", description=\"\")\n",
    "        records.append(record)\n",
    "\n",
    "    SeqIO.write(records, fasta_path, \"fasta\")\n",
    "    print(f\"Wrote {len(records)} sequences to {fasta_path}\")"
   ]
  },
  {
   "cell_type": "code",
   "execution_count": null,
   "id": "604629f6",
   "metadata": {},
   "outputs": [
    {
     "name": "stdout",
     "output_type": "stream",
     "text": [
      "Wrote 12254 sequences to generated_sequences.fasta\n"
     ]
    }
   ],
   "source": [
    "csv_to_fasta(\"../workdir/aptatrans_training_attempt2_2025-08-04_13-15-22/val_0.csv\", \"generated_aptamer_sequences.fasta\")"
   ]
  },
  {
   "cell_type": "code",
   "execution_count": 16,
   "id": "ce815ff3",
   "metadata": {},
   "outputs": [],
   "source": [
    "flybrain_pik = pickle.load(open(\"../data/the_code/General/data/DeepFlyBrain_data.pkl\", 'rb'))"
   ]
  },
  {
   "cell_type": "code",
   "execution_count": 19,
   "id": "702dd3eb",
   "metadata": {},
   "outputs": [],
   "source": [
    "flybrain_data = flybrain_pik['nonAugmented_data']"
   ]
  },
  {
   "cell_type": "code",
   "execution_count": null,
   "id": "5b411446",
   "metadata": {},
   "outputs": [],
   "source": [
    "ref_2bit = \"generated_aptamer_sequences.2bit\"\n",
    "query_fasta = \"generated_aptamer_sequences.fasta\"\n",
    "out_psl = \"blat_output.psl\""
   ]
  },
  {
   "cell_type": "code",
   "execution_count": 23,
   "id": "d5efcf64",
   "metadata": {},
   "outputs": [
    {
     "name": "stdout",
     "output_type": "stream",
     "text": [
      "Running BLAT: blat -tileSize=10 -stepSize=5 generated_aptamers_sequences.2bit generated_aptamers_sequences.fasta blat_output.psl\n"
     ]
    },
    {
     "name": "stderr",
     "output_type": "stream",
     "text": [
      "mustOpen: Can't open generated_aptamers_sequences.2bit to read: No such file or directory\n"
     ]
    },
    {
     "ename": "CalledProcessError",
     "evalue": "Command '['blat', '-tileSize=10', '-stepSize=5', 'generated_aptamers_sequences.2bit', 'generated_aptamers_sequences.fasta', 'blat_output.psl']' returned non-zero exit status 255.",
     "output_type": "error",
     "traceback": [
      "\u001b[0;31m---------------------------------------------------------------------------\u001b[0m",
      "\u001b[0;31mCalledProcessError\u001b[0m                        Traceback (most recent call last)",
      "Cell \u001b[0;32mIn[23], line 1\u001b[0m\n\u001b[0;32m----> 1\u001b[0m \u001b[43mrun_blat\u001b[49m\u001b[43m(\u001b[49m\u001b[43mref_2bit\u001b[49m\u001b[43m,\u001b[49m\u001b[43m \u001b[49m\u001b[43mquery_fasta\u001b[49m\u001b[43m,\u001b[49m\u001b[43m \u001b[49m\u001b[43mout_psl\u001b[49m\u001b[43m)\u001b[49m\n",
      "Cell \u001b[0;32mIn[2], line 11\u001b[0m, in \u001b[0;36mrun_blat\u001b[0;34m(reference_2bit, query_fasta, output_psl, tile_size, step_size)\u001b[0m\n\u001b[1;32m      2\u001b[0m cmd \u001b[38;5;241m=\u001b[39m [\n\u001b[1;32m      3\u001b[0m     \u001b[38;5;124m\"\u001b[39m\u001b[38;5;124mblat\u001b[39m\u001b[38;5;124m\"\u001b[39m,\n\u001b[1;32m      4\u001b[0m     \u001b[38;5;124mf\u001b[39m\u001b[38;5;124m\"\u001b[39m\u001b[38;5;124m-tileSize=\u001b[39m\u001b[38;5;132;01m{\u001b[39;00mtile_size\u001b[38;5;132;01m}\u001b[39;00m\u001b[38;5;124m\"\u001b[39m,\n\u001b[0;32m   (...)\u001b[0m\n\u001b[1;32m      8\u001b[0m     output_psl\n\u001b[1;32m      9\u001b[0m ]\n\u001b[1;32m     10\u001b[0m \u001b[38;5;28mprint\u001b[39m(\u001b[38;5;124mf\u001b[39m\u001b[38;5;124m\"\u001b[39m\u001b[38;5;124mRunning BLAT: \u001b[39m\u001b[38;5;132;01m{\u001b[39;00m\u001b[38;5;124m'\u001b[39m\u001b[38;5;124m \u001b[39m\u001b[38;5;124m'\u001b[39m\u001b[38;5;241m.\u001b[39mjoin(cmd)\u001b[38;5;132;01m}\u001b[39;00m\u001b[38;5;124m\"\u001b[39m)\n\u001b[0;32m---> 11\u001b[0m \u001b[43msubprocess\u001b[49m\u001b[38;5;241;43m.\u001b[39;49m\u001b[43mrun\u001b[49m\u001b[43m(\u001b[49m\u001b[43mcmd\u001b[49m\u001b[43m,\u001b[49m\u001b[43m \u001b[49m\u001b[43mcheck\u001b[49m\u001b[38;5;241;43m=\u001b[39;49m\u001b[38;5;28;43;01mTrue\u001b[39;49;00m\u001b[43m)\u001b[49m\n",
      "File \u001b[0;32m~/miniconda3/envs/seq/lib/python3.9/subprocess.py:528\u001b[0m, in \u001b[0;36mrun\u001b[0;34m(input, capture_output, timeout, check, *popenargs, **kwargs)\u001b[0m\n\u001b[1;32m    526\u001b[0m     retcode \u001b[38;5;241m=\u001b[39m process\u001b[38;5;241m.\u001b[39mpoll()\n\u001b[1;32m    527\u001b[0m     \u001b[38;5;28;01mif\u001b[39;00m check \u001b[38;5;129;01mand\u001b[39;00m retcode:\n\u001b[0;32m--> 528\u001b[0m         \u001b[38;5;28;01mraise\u001b[39;00m CalledProcessError(retcode, process\u001b[38;5;241m.\u001b[39margs,\n\u001b[1;32m    529\u001b[0m                                  output\u001b[38;5;241m=\u001b[39mstdout, stderr\u001b[38;5;241m=\u001b[39mstderr)\n\u001b[1;32m    530\u001b[0m \u001b[38;5;28;01mreturn\u001b[39;00m CompletedProcess(process\u001b[38;5;241m.\u001b[39margs, retcode, stdout, stderr)\n",
      "\u001b[0;31mCalledProcessError\u001b[0m: Command '['blat', '-tileSize=10', '-stepSize=5', 'generated_aptamers_sequences.2bit', 'generated_aptamers_sequences.fasta', 'blat_output.psl']' returned non-zero exit status 255."
     ]
    }
   ],
   "source": [
    "run_blat(ref_2bit, query_fasta, out_psl)"
   ]
  },
  {
   "cell_type": "code",
   "execution_count": null,
   "id": "50c20bd0",
   "metadata": {},
   "outputs": [],
   "source": [
    "df = parse_psl(out_psl)"
   ]
  },
  {
   "cell_type": "code",
   "execution_count": null,
   "id": "ec26f486",
   "metadata": {},
   "outputs": [],
   "source": [
    "top_hits = summarize_blat_results(df)\n"
   ]
  },
  {
   "cell_type": "code",
   "execution_count": null,
   "id": "e08871a7",
   "metadata": {},
   "outputs": [],
   "source": [
    "plot_alignment_stats(top_hits)"
   ]
  }
 ],
 "metadata": {
  "kernelspec": {
   "display_name": "seq",
   "language": "python",
   "name": "python3"
  },
  "language_info": {
   "codemirror_mode": {
    "name": "ipython",
    "version": 3
   },
   "file_extension": ".py",
   "mimetype": "text/x-python",
   "name": "python",
   "nbconvert_exporter": "python",
   "pygments_lexer": "ipython3",
   "version": "3.9.7"
  }
 },
 "nbformat": 4,
 "nbformat_minor": 5
}
